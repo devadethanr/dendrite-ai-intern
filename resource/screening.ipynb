{
 "cells": [
  {
   "cell_type": "code",
   "execution_count": null,
   "metadata": {},
   "outputs": [],
   "source": [
    "import json\n",
    "\n",
    "#recursive fn for iterting through each structre.\n",
    "def get_val_json(data,keys):\n",
    "  if len(keys) == 1:\n",
    "    return data.get(keys[0])\n",
    "  else:\n",
    "    new_key = keys[0]\n",
    "    if new_key in data:\n",
    "      return get_val_json(data[new_key],keys[1:])\n",
    "    else:\n",
    "      return None\n",
    "\n",
    "# Load JSON data from the file\n",
    "with open('alogparams_from_ui1.json', 'r') as json_file:\n",
    "    j_data = json.load(json_file)\n",
    "\n",
    "#keys to be extracted\n",
    "t_type_keys = ['design_state_data', 'target', 'type']\n",
    "t_name_keys = ['design_state_data', 'target', 'target']\n",
    "\n",
    "#extract values using the generic function above\n",
    "type_val = get_val_json(data,t_type_keys)\n",
    "target_val = get_val_json(data,t_name_keys)\n",
    "\n",
    "print(\"Type:\", type_val)\n",
    "print(\"Target:\", target_val)"
   ]
  },
  {
   "cell_type": "code",
   "execution_count": null,
   "metadata": {},
   "outputs": [],
   "source": [
    "#2.importing datasets and Reading the features \n",
    "#.. what missing imputation needs to be applied\n",
    "\n",
    "import pandas as pd\n",
    "iris_df = pd.read_csv('iris.csv')\n",
    "# print(iris_df.head())\n",
    "\n",
    "#extracting feature handling metrics from json ->j_data\n",
    "feat_hdg_info = j_data['design_state_data']['feature_handling']\n",
    "\n",
    "#loooing through features and applying missing value imputaions\n",
    "for feature_name, feature_details in feat_hdg_info.items():\n",
    "  if feature_details['feature_details']['missing_values'] == 'Impute':\n",
    "    impute_method = feature_details['feature_details']['impute_with']\n",
    "    impute_value = feature_details['feature_details']['impute_value']\n",
    "    #apply imputation\n",
    "    if impute_method =='Average of values':\n",
    "      iris_df[feature_name].fillna(iris_df[feature_name].mean(), inplace=True)\n",
    "    elif impute_method == 'custom':\n",
    "      iris_df[feature_name].fillna(impute_value, inplace=True)"
   ]
  }
 ],
 "metadata": {
  "kernelspec": {
   "display_name": "Python 3",
   "language": "python",
   "name": "python3"
  },
  "language_info": {
   "name": "python",
   "version": "3.11.4"
  },
  "orig_nbformat": 4
 },
 "nbformat": 4,
 "nbformat_minor": 2
}
